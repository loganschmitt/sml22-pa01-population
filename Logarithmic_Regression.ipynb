{
 "cells": [
  {
   "cell_type": "code",
   "source": [
    "import numpy as np\n",
    "import pandas as pd\n",
    "import matplotlib.pyplot as plt"
   ],
   "metadata": {
    "collapsed": false,
    "pycharm": {
     "name": "#%%\n"
    }
   },
<<<<<<< Updated upstream
   "execution_count": 1,
=======
   "execution_count": 2,
>>>>>>> Stashed changes
   "outputs": []
  },
  {
   "cell_type": "markdown",
   "source": [],
   "metadata": {
    "collapsed": false,
    "pycharm": {
     "name": "#%% md\n"
    }
   }
  },
  {
   "cell_type": "markdown",
   "source": [],
   "metadata": {
    "collapsed": false
   }
  },
  {
   "cell_type": "code",
<<<<<<< Updated upstream
   "execution_count": 2,
=======
   "execution_count": 3,
>>>>>>> Stashed changes
   "outputs": [],
   "source": [
    "with open('PopulationData.csv', 'r') as f:\n",
    "    lines = f.readlines()\n",
    "world_data = lines[218].strip('\\n')\n",
    "world_data = world_data.split(',')\n",
    "world_data = world_data[5:]\n",
    "for i in range(len(world_data)):\n",
    "    world_data[i] = float(world_data[i].replace('\"', ''))\n",
    "years = list(range(1960, 2021))"
   ],
   "metadata": {
    "collapsed": false,
    "pycharm": {
     "name": "#%%\n"
    }
   }
  },
  {
   "cell_type": "markdown",
   "source": [
    "##Converting the arrays to numpy arrays and reshaping the x-axis as well as flattening the arrays into 1D as opposed to 2D"
   ],
   "metadata": {
    "collapsed": false,
    "pycharm": {
     "name": "#%% md\n"
    }
   }
  },
  {
   "cell_type": "code",
   "source": [
    "years = np.array(years).reshape(-1, 1).flatten()\n",
    "world_data = np.array(world_data).flatten()"
   ],
   "metadata": {
    "collapsed": false,
    "pycharm": {
     "name": "#%%\n"
    }
   },
<<<<<<< Updated upstream
   "execution_count": 3,
=======
   "execution_count": 4,
>>>>>>> Stashed changes
   "outputs": []
  },
  {
   "cell_type": "markdown",
   "source": [
    "##Takes the log of the years"
   ],
   "metadata": {
    "collapsed": false,
    "pycharm": {
     "name": "#%% md\n"
    }
   }
  },
  {
   "cell_type": "code",
   "source": [
    "yearsLog = np.log(years)"
   ],
   "metadata": {
    "collapsed": false,
    "pycharm": {
     "name": "#%%\n"
    }
   },
<<<<<<< Updated upstream
   "execution_count": 4,
=======
   "execution_count": 5,
>>>>>>> Stashed changes
   "outputs": []
  },
  {
   "cell_type": "markdown",
   "source": [
    "##Fit the data to an logarithmic function and strip the coefficients"
   ],
   "metadata": {
    "collapsed": false,
    "pycharm": {
     "name": "#%% md\n"
    }
   }
  },
  {
   "cell_type": "code",
<<<<<<< Updated upstream
   "execution_count": 5,
=======
   "execution_count": 6,
>>>>>>> Stashed changes
   "outputs": [],
   "source": [
    "curve_fit = np.polyfit(yearsLog,world_data, 1)\n",
    "firstCoEff,secondCoEff = curve_fit[0],curve_fit[1]"
   ],
   "metadata": {
    "collapsed": false,
    "pycharm": {
     "name": "#%%\n"
    }
   }
  },
  {
   "cell_type": "markdown",
   "source": [
    "##Create another list of the predicted data to 2122"
   ],
   "metadata": {
    "collapsed": false
   }
  },
  {
   "cell_type": "code",
<<<<<<< Updated upstream
   "execution_count": 6,
=======
   "execution_count": 7,
>>>>>>> Stashed changes
   "outputs": [],
   "source": [
    "years = list(range(1960, 2123))\n",
    "predicted_data = []\n",
    "for i in range(2021, 2123):\n",
    "    predicted_data.append((firstCoEff * np.log(i)) + secondCoEff)\n",
    "world_data = list(world_data)\n",
    "trained_years = list(range(1960, 2021))\n",
    "predicted_years = list(range(2021, 2123))\n",
    "\n"
   ],
   "metadata": {
    "collapsed": false,
    "pycharm": {
     "name": "#%%\n"
    }
   }
  },
  {
   "cell_type": "markdown",
   "source": [
    "##Fits the model within the parameters of matplotlib and shows it off"
   ],
   "metadata": {
    "collapsed": false,
    "pycharm": {
     "name": "#%% md\n"
    }
   }
  },
  {
   "cell_type": "code",
<<<<<<< Updated upstream
   "execution_count": 7,
=======
   "execution_count": 8,
>>>>>>> Stashed changes
   "outputs": [
    {
     "data": {
      "text/plain": "<Figure size 640x480 with 1 Axes>",
      "image/png": "iVBORw0KGgoAAAANSUhEUgAAAicAAAGlCAYAAAAhwFaTAAAABHNCSVQICAgIfAhkiAAAAAlwSFlzAAAMTQAADE0B0s6tTgAAADh0RVh0U29mdHdhcmUAbWF0cGxvdGxpYiB2ZXJzaW9uMy4yLjIsIGh0dHA6Ly9tYXRwbG90bGliLm9yZy+WH4yJAAAgAElEQVR4nOzdd3hUVeLG8e9Jo4YAgdBCk1ClhGZFkKIoVoqyiBWxobKK+lsXsZdVUUQFFQREBEUFBAQFLCCiItIJVcAQEnoLLSHt/P6YAQMGSEhm7pT38zx5dsqdyXtIdvJ677nnGmstIiIiIr4ixOkAIiIiIrmpnIiIiIhPUTkRERERn6JyIiIiIj5F5URERER8isqJiIiI+BSVExEREfEpAVFOjDHvGGMSjTHWGNO4sK8xxsQYY2YZY/40xiQYY9p4JrmIiIicKiDKCTAJaANsKaLXvAostNbWBe4CJhhjwgqdUkRERM4qIP7gWmvnAxhjTnrcGFMXGArEABHACGvte2d6jdvNQG33dn8YY3biKjLzPDIAEREROSEgyklejDGhwKfAbdbadcaYksBCY8xCa+3SM7wuGgix1u7O9XAiUMOjgUVERAQI4HIC1AfOBybm2jsSCTQCTltO3E694FCeu1dERESk6AVyOTHAHmttfEFeZK3da4zBGFMx196TmkBSkScUERGRfwiUCbF5WQ8cNcbcfvwBY0ycMaZ8Pl77JfCg+zWtgcrAAo+kFBERkZMYa089guF/jDHDgRtwlYg9wGFrbZx7QuxbuOaLhAK7gd7W2pTTvcb9fpWAT3BNis0A+llrf/LysERERIJSQJQTERERCRyBfFhHRERE/JDfT4gtVqyYrVixotMxREREpABSUlIyrLXF8nrO78tJxYoVSU5OdjqGiIiIFIAxZvfpntNhHREREfEpKiciIiLiUzxeTvJ7xWBjTBNjzDxjzFpjzHpjTDdPZxMRERHf4405J5OA1znDImbu695MBe6w1i5wXwG4XFF885ycHHS6tOcYYwgJ0Q44EREpOh4vJ2e5+u9xtwC/WWsXuF+ThWvBtHOWkZFBUlISmZmZhXkbyYfw8HBq1KhBRESE01FERCQA+MrZOo2AdGPMDCAWWAk8dsqVgQEwxgwABhy/HxUVlecbJiUlERkZSXR09NmKkRSCtZa9e/eSlJREXFyc03FERCQA+Eo5CQc6AxcB24CXgOHAzaduaK0dAgw5fj82NvYfx2xycnLIzMwkOjqasDBfGWLgio6OZt++feTk5OgQj4iIFJqv/CXZAsy11qZY1wSRCcAF5/pmx+eYaI+Jdxz/d9bcHhERKQq+Uk6+AFobY8q4718FrHAwj4iIiDjEG6cSDzfGJOOaS/K9MWaj+/FRxpjrAay1ScD/gN+MMSuATsCDns7mbYcOHaJ06dL07dv3rNvOmzePOXPmFPp7zps3j1atWhX6fURERLzF4+XEWvugtTbWWhtmra1srY1zP97XWjs913bjrLXnW2ubWWu7WGsDbk36iRMn0qJFCyZPnszhw4fPuG1RlRMRERF/ExSzRft+/Adb9h71yHvXjC7JqDta52vb0aNH8/TTTzNixAi++OIL+vTpQ2pqKo899hi///47ISEhtGzZkv79+/PBBx+Qk5PD999/T7du3bj99ttp1aoVe/bsAeDw4cNERkaemOdx6623sm7dOjIyMqhRowZjxowhJibGI2MWERHxpKAoJ75g9erVbN26lauuuoqsrCxef/11+vTpwyOPPELp0qVZsWIFISEh7N69m4oVK3L//fdz+PBh3njjDQASExPP+P5Dhw6lQoUKALz66qu88MILDBs2zNPDEhERKXJBUU7yu2fDk0aPHs3tt99OaGgo11xzDffffz9r165lxowZLFmy5MQpuBUrVjyn958wYQKffPIJx44dIy0tjcqVKxdlfBERCUYHt0GZql7/tr5ytk5Ay8zMZPz48YwbN45atWoRFxfH0aNHGTNmTL7fIywsjOzs7BP309PTT9xesGABw4YN49tvv2XVqlUMGTLkpOdFREQKJDsTfngB3m4GW//w+rdXOfGCadOmcd5555GSkkJiYiKJiYn88ssvjBs3juuvv57BgweTk5MDwO7drkVxy5QpQ2pq6on3qFy5MllZWaxfvx6AcePGnXhu//79lClThvLly5ORkcGIESO8ODoREQkoezfB6Cvh5zchpiGUKOv1CConXjB69Gh69+590mONGzematWqtGvXjqNHj9K4cWPi4+MZOHAgAF27dmXx4sXEx8fzwgsvEBYWxjvvvMPVV19N27ZtOXbs2In3uvrqq4mLi6NBgwZ07tyZ+Ph4r45PREQCgLWw9BP44DLYtgwufQTu/h4q1PV6FOPvq3rGxsba5OSTzzrOzs5mw4YN1KtXj9DQUIeSBQ/9e4uI+Lmj++Drf8Pa6RBZFbqNgNptPfotjTEp1trYvJ4LigmxIiIichp/zYcp98GhbdDoBrh2KJQs72gklRMREZFglJUBc1+CX96B8JJww3CI7w0+cF06lRMREZFgs+dPmNwXti+Hai2h24cQXcfpVCeonIiIiAQLa2HpxzDrv5CVDpc9Dpc/CaHhTic7icqJiIhIMDi6D6Y/DOtmQFR16DYSal7idKo8qZyIiIgEuk1zYeoDcGg7nN8Nrn3LkfVL8kvlREREJFBlHYMfX4Rf34WISOg6Apr29IlJr2eiRdi8pFatWjRo0ID4+HgaNWrE8OHDC/V+8+bNo1WrVgAsXrz4H4u85eW5554jIyPjnL7f5ZdfzowZM87ptSIi4oDdG2BUJ1cxiW0N9/8Mzf7l88UEVE68atKkSSxfvpzZs2fz1FNPsXLlyhPP5eTknFjCvqBatWrFhAkTzrrd888/f87lRERE/IS1sHgMjGgLOxOg3X/grllQvrbTyfItOA7rfPov2P+XZ967XG24ZWKBXlK9enXq1avHLbfcQvPmzTly5AgbN27k22+/JSEhgRdffJG0tDTCwsIYPHgwbdu6VukbNGgQEydOpFq1arRu/feVlufNm8fjjz/O4sWLAZg5c+aJvSTGGEaMGMFHH30EwCWXXEJISAhz5syhRIkSDBgwgBUrVpCens4ll1zCu+++S3h4OGvWrOGuu+4iMzOThg0b6kKCIiL+4Mhe16TX9TN9ftLrmQRHOfExq1atYt26dVx33XXMnTuXpUuXEhMTw+bNm3n++eeZNWsWZcqUYePGjbRr147ExERmzZrF9OnTWb58OSVKlKBr1655vveGDRu4++67mT9/PvXq1SMzM5OjR4/ywQcfMGLECH799VdKly4NwL333kvbtm358MMPsdZyzz33MGzYMB599FFuu+02+vfvzx133MHChQu59NJLvflPJCIiBbXpR/jqATi8Axr3gGve9OlJr2cSHOWkgHs2PKVHjx4UL16ckiVLMmbMGBISEoiMjCQmJgaAWbNmsXHjxhN7So7bunUrc+fOpWfPnieKRZ8+fXjppZf+8T2+++47unTpQr169QAIDw8nKioqzzxTp05l4cKFvPnmmwCkpaURERHBwYMHSUhI4LbbbgPgoosuokmTJkXzjyAiIkUr6xj88AL8Nsw96XUkNOvpdKpCCY5y4iMmTZpE48aNT9xPSEg4UTYArLVcddVVjBs37h+v9cQFGq21TJ06lfPOO++kxw8ePIjxgwlTIiJBb/cGmHw37FjpmvTa7UO/mltyOpoQ60OuvPJKZs2aRUJCwonHFi1aBEDHjh354osvOHLkCNnZ2YwdOzbP9+jcuTPffvstGzZsACAzM5PU1FQAIiMjT9wGuP7663n11VfJysoCYP/+/WzcuJEyZcrQuHHjE5NsFy1axKpVq4p8vCIico4CYNLrmaic+JC6desyfvx4+vbtS7NmzWjYsCFvv/02ANdeey3XXnstzZo1o0OHDjRt2jTP94iLi2P06NH06tWLpk2bcsEFF7B+/XoAHnvsMTp06EB8fDy7du1i6NChhIWFER8fT9OmTenUqROJiYkAjBs3jmHDhtGiRQtGjhzJhRde6JV/AxEROYsje2Fib5jxKJSqCHd+A+0HQmjgHAwxnjhc4E2xsbE2OTn5pMeys7PZsGED9erVIzQ01KFkwUP/3iIiXrJpLnx1f0BMejXGpFhrY/N6LnBqloiISKAKwEmvZ6JyIiIi4st2b4DJfWDHqoCa9HomAVlOjp9p4u+HrPzF8X9nneEjIlKErIUlH8GsgZB9zDXpte3/BdTcktMJyBGGhIQQHh7O3r17iY6O1h9ND7LWsnfvXsLDwwkJ0fxqEZEicdJKrzXcK71e7HQqrwnIcgJQo0YNkpKS2Ldvn9NRAl54eDg1atRwOoaISGDYPM816fXQdmjcHa4Z4reTXs9VwJaTiIgI4uLiyMnJ0eEdDzLGaI+JiEhRyMqAH190XUU4ohTc+IHfXEW4qAVsOTlOfzhFRMTn7fnTtdLr9hVQrRV0/xDKn3f21wWogC8nIiIiPstaWPoxzPovZKbBZY/D5U9CaLjTyRylciIiIuKEo/vg6/6w9msoEwu9R0ItXQEeVE5ERES876+fYcq9cGgbNLoRrhsKJco5ncpnqJyIiIh4S3YmzH0FFrwF4SXhhuEQ3zsoJ72eicqJiIiIN+zdBJP7wralULU5dB8N0XWcTuWTVE5EREQ8yVpY8Rl88wRkHIE2j8LlAyEswulkPkvlRERExFPSDsDMAZAwGSKrQq/PoHZbp1P5PJUTERERT9jyG0y5B1K3QsPr4Lp3oGR5p1P5BZUTERGRopSdBfNfh/mDIaw4XPc2tLhDk14LQOVERESkqOxPhMn3QPIiqNzUNem1Yj2nU/kdlRMREZGisPJL1/ySYwfh4oeg4zMQVszpVH5J5URERKQw0g/CN4/Dys+hdCW4aSzEdXQ6lV9TORERETlXW/9wXbDvwBaod5VrUbVSFZxO5fc8fsleY8w7xphEY4w1xjQ+y7bFjTFrjDGLPZ1LRETknOVkuya8jukMh3ZAlzeg10QVkyLijT0nk4DXgQX52PZl4DegmUcTiYiInKvUZNd1cbb8AjGNXJNeKzVyOlVA8Xg5sdbOBzBnOYXKGHMZUBcYgsqJiIj4otVTXVcSTk+FC+6DK56H8BJOpwo4PjHnxBhTChgKXI+roJxp2wHAgOP3o6KiPBtOREQk4wjMehKWjoOS0dDrc6h/ldOpApZPlBNgMDDcWptijDljObHWDsG1dwWA2NhY6+lwIiISxLYtd0163bsRzmsPXT+AyMpOpwpovlJO2gBdjDHPAMWBcsaY1dba8x3OJSIiwSonBxYOh++fd92/4kXX+iUhHj+XJOj5RDmx1jY9ftsYcznwhrW2lXOJREQkqB3aAV/dD5vnQnSca9Jr1XinUwUNb5xKPNwYkwzEAt8bYza6Hx9ljLne099fRESkQNbPgvcvcRWT5rfBffNVTLzMWOvfUzZiY2NtcnKy0zFERMTfZabDd0/DopFQPMp1FeHzb3Q6VcAyxqRYa2Pzes4nDuuIiIg4atdamNQHdq2BmpdC1xFQtrrTqYKWyomIiAQva+GPUTBnEGRnQodB0GYAhIQ6nSyoqZyIiEhwOrIXpj8E67+BsjVck16rX+B0KkHlREREgtHmn+Cr++DQdmhyE1zzpmueifgElRMREQke2Znw40vwy9sQUQpu/ADiezmdSk6hciIiIsFh7yaY3Be2LYVqLaH7KCh/ntOpJA8qJyIiEtishRUT4ZvHXdfIafMotH8KQsOdTianoXIiIiKBKz0VZgyAhEkQWQX+9Smc187pVHIWKiciIhKYtv4Bk/vAgSSofw1c/y6UinY6leSDyomIiASWnGz4eQjM+5/r0M01Q6BVHzDG6WSSTyonIiISOFKTYcq9sOUXiGkEPcZATEOnU0kBqZyIiEhgWDMdpj8M6QfggnvhihcgvITTqeQcqJyIiIh/yzgKs/8LS8ZCifLQayLUv9rpVFIIKiciIuK/dqyCSXfDnvVQu53rgn1lqjidSgpJ5URERPyPtfD7CPjuabA50Ok5uOTfEBLidDIpAionIiLiXw7vhmn94M85UK429BjtWvFVAobKiYiI+I+NP8DUB+DwTmjWC7oMhmKRTqeSIqZyIiIivi8rA358AX59FyIiodsoaHqT06nEQ1RORETEt+3dBJP6wPblUK2V+4J9tZ1OJR6kciIiIr7JWljxGcx8HDKPwmWPweX/1QX7goDKiYiI+J5TL9h3y0So3dbpVOIlKiciIuJbtv4Bk++GA1tcF+y7YRiULO90KvEilRMREfENOdmwYAjMdV+wr8sb0LqvLtgXhFRORETEeQe3uS7Yl/gzVGzoumBfpUZOpxKHqJyIiIiz1s2EaQ9C2n5odTd0flkX7AtyKiciIuKMzDSYMwj+GAUlykHPCdDwWqdTiQ9QOREREe/bucY16XXXGqjZBrqNhKhqTqcSH6FyIiIi3mMtLB4DswdCdiZ0GARtBkBIqNPJxIeonIiIiHcc3QfTH4Z1M6BsDeg+Gqpf4HQq8UEqJyIi4nmJC1xn4xxMgcbd4dq3oHiU06nER6mciIiI52RnwU+vwfzBEF4SbhgO8b21domckcqJiIh4xv4tMOUe2Po7VG4KPT6CCnFOpxI/oHIiIiJFL2EKfP0IHEuFix6ETs9CWDGnU4mfUDkREZGik3EEvv0PLPsESlaA3pOg7hVOpxI/o3IiIiJFY/tKmNQH9v4J57WHriMgspLTqcQPqZyIiEjhWAu/j4DvngabA1e8CBc/BCEhTicTP6VyIiIi5+7IHpjaD/6cDeVqQ4/RUK2l06nEz6mciIjIudk8D6bcB4d3QLNe0GUwFIt0OpUEAJUTEREpmOxMmPsyLBgKEaWg60ho1tPpVBJAVE5ERCT/9v0Fk/tCymKo2gK6j4LoOk6nkgCjciIiIvmzapJr7ZKMQ3BJf+jwNIRFOJ1KApDKiYiInNmxw661S5aPh1Ix0HMc1OngdCoJYConIiJyettXuNcu2QhxneDGD6B0RadTSYBTORERkX+yFha+D98/67rd+RW48AGtXSJe4fHfMmPMO8aYRGOMNcY0Ps02HYwxvxtj1hhjEowxLxujS1aKiDjiyB749GaY/V+Iqg59v4OLH1QxEa/xxm/aJKANsOUM2+wHellrGwGtgHZALy9kExGR3DbPg/cvhT/nQLNb4L6foGpzp1NJkPH4YR1r7XyAM+0IsdYuy3U73RizHDjP09lERMRNa5eID/G5OSfGmMpAD6DLaZ4fAAw4fj8qKspLyUREAtSpa5f0GA3l9d+H4hyfOoBojCkDfA28bq1dmtc21toh1trY41+lS5f2bkgRkUCyahKMaOsqJpf0hz6zVUzEcT6z58QYEwnMAqZba4c4nUdEJKBlHIFv/u/vtUtuGgtxHZ1OJQL4SDkxxpTGVUxmW2tfdDqPiEhA277SvXbJn1CnI3T9AErHOJ1K5ARvnEo83BiTDMQC3xtjNrofH2WMud692b+BC4Cuxpjl7q+nPJ1NRCSoWAsLP4BRHWF/Ilz5EvSepGIiPsdYa53OUCixsbE2OTnZ6RgiIr7tyF6Y1g82zIJytaHHGKjWwulUEsSMMSnW2ti8nvOJwzoiIuJBf/0MU+6BQ9uhaU+45k0oFul0KpHTUjkREQlU2Vnw06sw/w332iUjoNm/nE4lclYqJyIigehAkmvtkq2/Q5V412Gc6DpOpxLJF5UTEZFAs3oqTO8Px1Lh4oeg47MQFuF0KpF8UzkREQkUGUddF+tbMhZKVnCdiVP3CqdTiRSYyomISCDYuQYm3QW710HtdtBtJERWdjqVyDlRORER8WfWwuIxMHug6+J9HZ+FSx+BEJ+6OolIgaiciIj4q6P74Ov+sPZrKFsDuo+B6q2dTiVSaConIiL+KGkhTLobDibD+V3h2qFQoqzTqUSKhMqJiIg/ycmGn4fAvFcgtBhc9w60uB2McTqZSJFRORER8RcHt8GUeyHxZ4g537V2SUwDp1OJFDmVExERf7B+Fkx9ANL2Qeu+rov2hZdwOpWIR6iciIj4sqxj8N2z8Pv7ULws9BwPDa9zOpWIR6mciIj4qj0bXWuX7FgJNS6Gbh9C2epOpxLxOJUTERFftPwzmPkYZKVBu/9A2/+DUH1kS3DQb7qIiC85dshVSlZ+DpFVofsXUKuN06lEvErlRETEV2xbBpP6wL7NUO8quOE9KBXtdCoRr1M5ERFxWk4OLHwPvn/OtV7JVa/Bhfdp7RIJWionIiJOOrLHdYrwn3OgfB3X2iVV451OJeIolRMREaf8NR8m3wOHd0CzW6DLYChW2ulUIo5TORER8bbsLPjpVZj/BkSUgq4joVlPp1OJ+AyVExERbzqwFSb3ha0LoUoz6PERRNdxOpWIT1E5ERHxlrVfw7QHIT0VLnoQOj0LYcWcTiXic1ROREQ8LTMd5jwFf4yCktFwyxdQr7PTqUR8lsqJiIgn7V7vWrtkZwLUugy6jYQyVZ1OJeLTVE5ERDzBWlg+Ab55ArLSof1TcNljEBLqdDIRn6dyIiJS1NIPwoxHIWESlKkG3UdBzUucTiXiN1RORESKUspS12Gc/X9B/WvghmFQsrzTqUT8isqJiEhROHUJ+qsHwwX3aAl6kXOgciIiUlhH9sBX98PG7yC6rmsJ+ipNnU4l4rdUTkRECkNL0IsUOZUTEZFzkZ0FP70G8we7lqDv9iE0vdnpVCIBQeVERKSgUpNdS9An/aYl6EU8QOVERKQg1s2Eqf0g/QBc1A86Pacl6EWKmMqJiEh+ZKbDd8/AohFQojz0mgj1r3Y6lUhAUjkRETmbPX/CpLtgxyqoealrfklUNadTiQQslRMRkTNZ/hnMfAyy0qDdk9Du/7QEvYiHqZyIiOTl2GH45nFY8RlEVoFun0Pty5xOJRIUVE5ERE61fQV8eRfs2wR1r4QbP4BS0U6nEgka+S4nxpgwoDtQJ/frrLUveCCXiIj3WQuLRsKcQa7bnV9xnZGjJehFvKoge04mApWBRUC2Z+KIiDjk6D6Y9hCsnwnlaruWoK/WwulUIkGpIOWkCdDAWms9FUZExBFJC2HS3XAwGRr3gGvfguJlnE4lErQKUk6SgHAgw0NZRES8KycbFgyBuf+D0Ai4fhg0v1WHcUQcVpBysgH40RgzBUg//qC19r0zvcgY8w5wPVATaGKtTTjNdncDTwIhwA9AP2ttVgHyiYjk36EdMOVe+OsniGnkWoI+poHTqUSEgpWTksCfuA7vHJefQzyTgNeBBafbwBhTG3gRaA7sAqYBdwMjCpBPRCR/Nn4PU+6Do3ug5V1w1f8gvITTqUTELd/lxFp717l8A2vtfABz5t2kPYCvrLU73dt+APwfKiciUpSyM+HHl+CXoVCsDNw0Fs7v6nQqETlFQU8l/jfQCdcek++Ad4vo0EsNYEuu+4nux/LKMQAYcPx+VFRUEXx7EQl4+7fApD6QshiqtXSdjVOultOpRCQPBTmsMwTXGifH92bcDdQG+hdRltyHiE67m8VaO8SdBYDY2FidPSQiZ7ZmGkx7GI6lwiX9ocPTEBbhdCoROY2ClJPLgXhrbQ6AMWYGsLSIciQBtXLdr+l+TETk3GWmw+yBsHg0lIyG3pOg7hVOpxKRsyhIOTG4zqTJyXW/qM63mwwsMMa8gGtC7P24Fn0TETk3uze4riS8MwFqXea6knCZKk6nEpF8CCnAtrOB2caYW4wxvYAZwLdne5ExZrgxJhmIBb43xmx0Pz7KGHM9gLV2M/As8AuwCVdBGV2gkYiIHLf8UxjZDnatgfZPwe3TVExE/IjJ74KvxpgQ4D6gI649Jt8BI48f5nFKbGysTU5OdjKCiPiKY4dh5mOwciJEVoUeo6HmJU6nEpE8GGNSrLWxeT1XkFOJc4D33V8iIr5l+0r48k7XlYTrXQU3vKcrCYv4qbOWE2PMv621bxtjBpPHomvW2v/zSDIRkfywFv4Y5Zr4ai10/h9c9ICWoBfxY/nZc3J8qfrDngwiIlJgaftdVxJeN8O1ZkmPj3QlYZEAcNZyYq09vq7JV9balbmfM8Y09UgqEZGz2brIdSXh1CQ4vxtcNxSKa1FGkUBQkLN1xubzMRERz8nJgZ+HwJir4MguuO4d12qvKiYiASM/c04qADFAcWNMQ/5e2yQKKOXBbCIiJzu8G766Fzb9CBUbuA7jVGrkdCoRKWL5mXPSG3gEqAp8k+vxVFxXGxYR8bzNP8GUe+DwTmh+G1z9OkSUdDqViHhAfuacvA28bYx52lr7ohcyiYj8LTsLfnoN5g+GiFLQfTQ06eF0KhHxoIKsc/KiMSYU13Vviud6fI0ngomIkJoCk/tC0q9QpZnrME50HadTiYiH5bucGGOuwrWkfDRwBCiL6+J8tT0TTUSC2obZ8NX9kLYPLrwfrngBwoo5nUpEvKAgF/57BbgEmGqtbW6MuRVo4plYIhK0sjLgh+fht2FQvCz0nAANr3U6lYh4UUHKibXWbjHGhLnvjDfGzPdQLhEJRvv+gkl9YNtSqH6ha35J2epOpxIRLytIOcl0/2+yMeY6YAuuKw2LiBRewhT4+t9w7BC0GQDtB0JouNOpRMQBBSknbxtjygGDgIm45pw84pFUIhI8MtNc18VZPAZKVYSbxkJcR6dTiYiDCnK2zmfum0uAup6JIyJBZfcGmHQX7EyA2m2h24cQWdnpVCLisPysENvlTM9ba7850/MiInla/hnMHABZ6dD+KbjsMQgJdTqViPiA/Ow5eeIMz1lOXjVWROTMjh2Gb56AFZ9CZFXoPgpqXep0KhHxIflZIba9N4KISBDYkeA6jLNnA9TtDDe+D6WinU4lIj6mIIuwtc3rcWutTicWkTOzFpZ8BN8+CTYbrnwZLuoHIQW5MLqIBIuCnK3zZq7bxYH6QALQokgTiUhgSU91nSK8+isoW8O1BH1sK6dTiYgPK8jZOq1z3zfGXADcUeSJRCRwpCxxLaq2PxEaXg/XvwslyjqdSkR83DnvU7XWLkJ7TUQkL9bCb8NhdGc4uA26vAE3j1MxEZF8Kcick0a57oYCFwKRRZ5IRPzb0X0wtR9s+NfATKUAAB7DSURBVBbK13EtqlalqdOpRMSPFGTOycxct7OAjeiwjojklrTQdRjnYAo0uQmufQuK6b9hRKRgCjLnpLYng4iIH8vJgV/egh9fhtAIuGE4xPcGY5xOJiJ+qCB7TjDGtAY64lp87Xtr7RKPpBIR/3F4F3x1H2z6ESo2cB3GiWnodCoR8WP5nhBrjHkU+BKoBFQGJhlj/u2pYCLiB/6aDx+0cRWTFrfDPXNVTESk0Aqy5+QBoKW1di+AMeZFYCHwtieCiYgPy8mGn16Hn16DiFKuC/Y1vdnpVCISIApSTrYfLyYA1tp9xpgdHsgkIr7s4HaYcg8k/gyVm0CPsVAhzulUIhJAClJOfjHGjAJGu+/fBcw+foqxtXZNUYcTER+z8XuYch8c3QOt+7qWoQ8v7nQqEQkwBSknvdz/2/GUx/vimiB7XpEkEhHfk50Jc1+GBW9BsSjXgmqNbnA6lYgEKJ1KLCJnlprsWrtk6+9QtQX0GAPl9XEgIp5T0FOJW/H3qcQ/6FRikQC3fhZMvR/S9sPFD0HHZyEswulUIhLgCnIq8T3AFKAKUBWYYozp66lgIuKgrAyY/RR81tN1v9dE6PyyiomIeEVB9pw8jOtU4t0AxpiXgR+AUZ4IJiIO2Z/oOoyTsgSqXwQ9RkNUrNOpRCSIFOiwzvFicvy2McYWfSQRccyaaTDtYTiWCm0ehfZPQWi406lEJMgUpJxsdO8tGY5rzsm9wCaPpBIR78pMhzmD4I8PoWQFuHUyxHVyOpWIBKl8lRNjTGNgInAzsBL3tXWA+z0XTUS8Yu8m+PJO2LESaraB7qOgTBWnU4lIEDtrOTHG9ANeBjYADYC7rLVTPB1MRLxg1ST4+hHIOAzt/gNt/w9CC3S0V0SkyOXnU6gf0MRam2yMaQK8j+usHRHxV5lpMOtJWDIWSsXAv8bDeZc7HEpExCU/5STTWpsMYK1dZYwp5eFMIuJJuzfApLtgZ4KrkHT7EErHOJ1KROSE/JSTYsaYhoDJ676uqSPiR1ZMhBkDICsNOgyCNgMgJNTpVCIiJ8lPOSkJfHPKY8fv65o6Iv4g4yh88wQsHw+RVaD7l1DrUqdTiYjk6azlxFpbqzDfwBhTF/gYqAAcAO48dW+LMcYArwNdgGxgL3CPtXZjYb63iAC71rrOxtm9znV6cNcRUKqC06lERE4r38vXF8IIYKS1th6uAjI6j22uB9oC8dbaprhWnn3FC9lEApe1sGw8jGwPe/50XRfnli9VTETE53n0nEFjTAzQArjS/dBkYJgxppa1NvGUzYsBxY0xWUAZINmT2UQC2rHDMPMxWDkRylRzXUm4xkVOpxIRyRdPL2hQHdhmrc0CsNZaY0wSUANIzLXd18DlwA7gEJACtMvrDY0xA4ABx+9HRUV5IreI/9qR4DqMs/dPqHcV3Pg+lCzvdCoRkXzzxmGdU6+/Y/LYpgWuBd6q4bri8Q/AsDzfzNoh1trY41+lS5cu0rAifstaWPwRjOoI+/+CK19yXU1YxURE/Iyn95xsBWKNMWHW2iz3xNfqQNIp290JzLXWHgAwxnzMP88QEpHTOXbItdJrwiSIquE6jFO9tdOpRETOiUf3nFhrdwHLgFvdD3UHEvOYb7IZ6GiMOX750+uABE9mEwkY21fCiHauYlL/Grh/voqJiPg1b1xE4z5grDFmIHAQuAPAGDMKmG6tnY7rSscNgVXGmAxgu/t1InI61sLi0TBrINgcuOpVuPB+MHkdORUR8R/G2lOnhPiX2NhYm5ysE3skOGTnWCb+kcTNraoT/t1TsPA9KFsDbhoL1Vo6HU9EJN+MMSnW2ti8ntPlR0X8xPbUNP49cTmL/tpHWkY2fc/vCoe2w7VDoURZp+OJiBQZlRMRP/DD2p08/uUK9h/N5M5LanHrRTUh/DyofoHT0UREipzKiYgPy8zO4Y3Z6xkxfzNRJcIZeVtLrjy/stOxREQ8SuVExEftSE3n4c+W8kfifprXKMuwW1pQrWwJp2OJiHicyomID/pt014e/mwpew5n0OfS2jx5dQMiwryxZqKIiPNUTkR8iLWWD3/ezGuz1lM8LIT3eregS5MqTscSEfEqlRMRH3E0I4snJq1k5srtxMWU5oNbWxIXo8sziEjwUTkR8QFJe49y7yeLWbfjEF2aVOb1Hs0oXUz/9xSR4KRPPxGH/bJxDw9+upTUtEye6FyffpfXwWiVVxEJYionIg6x1jJ6wV+88s1aSkWEMfqOVnRoUMnpWCIijlM5EXFAemY2A6esYsqyFOpULMXI21tRp6Lml4iIgMqJiNdtO5DG/eOXsDI5lU4NYxjSM54yxcPP/kIRkSChciLiRX8k7uOB8UvYcziD/h3ieKRTPUJCNL9ERCQ3lRMRL5nw+xaem76a8NAQPri1BVc11volIiJ5UTkR8bCMrBye/3o1E35Pokb5koy8vSUNKpdxOpaIiM9SORHxoD2Hj9Fv/FIWJe7j0rhohvVqQblSEU7HEhHxaSonIh6SkJLKveMWsy01nbsurcVTXRoSFqrr44iInI3KiYgHTFuewn8mryQnBwb3aMpNrao7HUlExG+onIgUoazsHF6fvZ6R8zcTE1mMEbe1pHmNck7HEhHxKyonIkVk/5EM+k9cxs9/7qFlzXK837sFMWWKOx1LRMTvqJyIFIEVWw/Qb8JSUg6kccuFNXjuuvOJCNP8EhGRc6FyIlII1lom/J7EC1+vwRh4vXtTbm6t+SUiIoWhciJyjo5mZPHUVwl8tSyFGuVL8l7vFjSuFuV0LBERv6dyInIONu8+zAPjl7J+5yE6NYzhzZvjiSqh6+OIiBQFlRORApqVsIPHv1zB0Ywsnuhcnwfa1dH1cUREipDKiUg+ZWXnMHjOekb8tJnypSIYcduFXBpXwelYIiIBR+VEJB92HzpG/8+W8dvmvTSvUZb3eregSlQJp2OJiAQklRORs1iyZR/9Jixl58Fj3H5xTQZd00inCYuIeJDKichpWGsZ+2siL89cS1ioYWjPeG5sXs3pWCIiAU/lRCQPh9IzeXLyKmau2k6t6JK8f2tLGlYp43QsEZGgoHIicop1Ow7Sb/xSNu85wtWNK/Naj6aUKa7ThEVEvEXlRCSXLxdv5elpCWRlWwZd05C729TGGJ0mLCLiTSonIkB6ZjbPTEvgi8XJVIkqzrBbmtOyZnmnY4mIBCWVEwl6m3Yf5sEJS1m34xBt61VkaM94ypeKcDqWiEjQUjmRoDZteQoDp6wiLTObx6+sR7/L47Taq4iIw1ROJCilZ2bz/Ndr+GxREhUjizHqjtZcXCfa6VgiIoLKiQShzbsP0899GKdNXAXe6hlPxchiTscSERE3lRMJKlOXpTDwq1WkZ2Yz4Ip6PNg+jlAdxhER8SkqJxIU0jKyeW76aj5fvJWYyGKMuqMVl9TRRftERHyRyokEvA07D/HQp0vZsPMwl9V1HcapUFqHcUREfJXKiQQsay1fLknmmWkJZGZbnuhcnwfa1dHZOCIiPk7lRALSkWNZDJqawFfLUqgSVZx3ezWnVS0tqiYi4g9UTiTgrN1+kAc/Xcrm3Ufo2CCGN25qRjktqiYi4jdUTiRgWGv5/I+tPDt9Ndk5ujaOiIi/8ng5McbUBT4GKgAHgDuttWvy2K4J8C5QCQgB/mutneLpfBIYjhzL4qmvVjF1+TaqlS3Bu7c0p0WNck7HEhGRc+CNPScjgJHW2rHGmB7AaODi3BsYY0oCU4E7rLULjDFhgP6ySL6s23GQfhNch3E6NazEGzc1pWxJHcYREfFXHi0nxpgYoAVwpfuhycAwY0wta21irk1vAX6z1i4AsNZmAbs9mU0Cw5eLt/L0tASysnUYR0QkUHh6z0l1YJu7bGCttcaYJKAGkJhru0ZAujFmBhALrAQes9b+o6AYYwYAA47fj4qK8lx68Vnpmdk8My2BLxYnUyWqOMNuaUHLmtrZJiISCEK88D3sKffz+s/acKAzcB/QHNgKDM/zzawdYq2NPf5VunTpIg0rvi9xzxFuHP4LXyxOpl29iszsf5mKiYhIAPH0npOtQKwxJsxam2Vc+9urA0mnbLcFmGutTQEwxkwAvvFwNvFDs1fv4PEvVnA4I4sBV9TjofZxWlRNRCTAeHTPibV2F7AMuNX9UHcg8ZT5JgBfAK2NMWXc968CVngym/iXrOwcXv12Hfd9soTwsBDG9bmA/h3rqpiIiAQgb5ytcx8w1hgzEDgI3AFgjBkFTLfWTrfWJhlj/gf8ZozJAlKAe72QTfzAnsPHePjTZfy2eS/x1cvyXu8WVC1bwulYIiLiIcbaU6eE+JfY2FibnJzsdAzxkCVb9vPghKXsOJjObRfVZNC1DSkWFup0LBERKSRjTIq1Njav57RCrPgkay3jF27hhRlrCA0xDLm5Gd1a5Pk7LCIiAUblRHxOemY2g6YmMGlJMjWjS/LBrS1pWKXM2V8oIiIBQeVEfErKgTQeGL+ElcmptK9fkaE9mxNVMtzpWCIi4kUqJ+Izft20h4c+Xca+Ixn07xDHI53q6WwcEZEgpHIijrPWMurnv/jft2spGRHGiNta0vn8yk7HEhERh6iciKPSMrL5z+SVTF+xjToVSzHitlbExWjVXxGRYKZyIo7Zuu8o932yhDXbD3Jlo0q8eXMzIotrfomISLBTORFHLPhzDw9/tpT9RzO1DL2IiJxE5US8ylrLyPmbeW3WOkpFhDHq9lZ0alTJ6VgiIuJDVE7Ea9Iysnli0gpmrNxOXExpRt7WkvMqan6JiIicTOVEvGJ7ahr3jFtMQspBrjq/Mm/c3IzSxfTrJyIi/6S/DuJxy5L2c+8nS9h96BiPdKpL/w66mrCIiJyeyol41PQV23j8yxWEGHivdwu6NKnidCQREfFxKifiEdZa3vlhI299v4GYyGKMvqM1TWKjnI4lIiJ+QOVEilx6pmthtWnLt9GoShlG39mKKlElnI4lIiJ+QuVEitSuQ+ncO24Jy7ce4IpGlRjaM55SmvgqIiIFoL8aUmRWb0vlno8Xsy01nQcur8MTV9bXxFcRESkwlRMpErMSdvDo58vJzrEMubkZ3VrEOh1JRET8lMqJFIq1lvfmbWLw7PVUKB3BiNta0rJmeadjiYiIH1M5kXOWe+Jrg8qRjLqjFbHlSjodS0RE/JzKiZyTnQfTuXfcYlYkp3JFo0q81TNeK76KiEiR0F8TKbClSfu5/5Ml7Dp0jAfb1+GxKzTxVUREio7KiRTIF39sZdDUBEJC4O1/xXNDfDWnI4mISIBROZF8ycjK4aWZaxj32xaqlS3BiNta0riaVnwVEZGip3IiZ7U9NY1+E5ayLOkAF58XzbBbmhNdupjTsUREJECpnMgZ/bppD/0/W8aewxnc1/Y8nuhcn7DQEKdjiYhIAFM5kTzl5Fje/2kTb85ZT4nwUN7v3YKrdUVhERHxApUT+YfUo5k89uVyvl+7i3qVSvP+rS2pU7G007FERCRIqJzISRJSUnlgwhK27kujW/NqvNS1MSUj9GsiIiLeo786AriWof/8j608M301WHilaxN6XVAdY7R+iYiIeJfKiZCWkc2gqQlMXppMtbIleP/WFjSNLet0LBERCVIqJ0Fu0+7D9Bu/lPU7D9G+fkWG3BxPuVIRTscSEZEgpnISxKYsTWbQ1ATSM7N5onN9HmhXR8vQi4iI41ROgtCRY1k8M201k5cmU6lMMUbf0ZqL60Q7HUtERARQOQk6K5MP8O+Jy/lrzxHa16/IGzc102qvIiLiU1ROgkROjmXE/M28OWc9IcYw6JqG9Lm0tg7jiIiIz1E5CQLbU9MY8PkKftu8l7iY0rz9r3jOr6qL9omIiG9SOQlw36zazn+nrCI1LZPeF9Zg0DWNKBER6nQsERGR01I5CVAH0zN5btpqpixLIbpUBKNub0WnRpWcjiUiInJWKicB6NeNe3j8yxVsS02nff2KvNajKTGRxZ2OJSIiki8qJwEkLSOb12atY+yviZSMCNUS9CIi4pdUTgLE0qT9PPbFCv7ac4TWtcrxxk3NqBldyulYIiIiBaZy4ucysnIY+v0GPvhpE2GhITzVpSF92tQmVKcIi4iIn/J4OTHG1AU+BioAB4A7rbVrTrNtcWApcNRa28rT2fzduh0HefTzFazdfpDG1cow5OZ46lWKdDqWiIhIoXhjz8kIYKS1dqwxpgcwGrj4NNu+DPwGNPNCLr+Vk2MZveAvBs9eT7a19O9Yl4c7xBEeGuJ0NBERkULzaDkxxsQALYAr3Q9NBoYZY2pZaxNP2fYyoC4wBJWT00o5kMZjXyxn4eZ9nFehFEN6xhNfvazTsURERIqMp/ecVAe2WWuzAKy11hiTBNQAEo9vZIwpBQwFrsdVUE7LGDMAGHD8flRU8Kx0+vWKbQz8ahWH0rO47aKa/LdLA0pGaNqQiIgEFm/8ZbOn3M9rpuZgYLi1NsU9R+X0b2btEFx7VwCIjY099f0DzqH0TJ6dvpopS1OoUDqCd+5sTfsGMU7HEhER8QhPl5OtQKwxJsxam2VcC25UB5JO2a4N0MUY8wxQHChnjFltrT3fw/l83tKk/TwycTlJ+47SoUEMr/doSgVdRVhERAKYR8uJtXaXMWYZcCswFugOJJ4638Ra2/T4bWPM5cAbwX62TnaO5b25Gxn6w5+EhRheuOF8bruophZUExGRgOeNwzr3AWONMQOBg8AdAMaYUcB0a+10L2TwKykH0nh04nIWJe6jfqVI3unVnPqVdYqwiIgEB2Otf0/ZiI2NtcnJyU7HKDLfrNrOk5NXcjA9izsvqcWTVzegeLiuIiwiIoHFGJNirY3N6zmd6uEj0jOzeXHGGib8nkR0qQjG3NmKDg10FWEREQk+Kic+YOOuQzz06TLW7TjEpXHRvHVzPDFldBVhEREJTionDrLWMn7hFl6auZbM7Bwev7IeD1wep+viiIhIUFM5ccjuQ8f4z+SV/LhuF7HlSjC0ZzytapV3OpaIiIjjVE4cMHv1Dv47ZRX7jmTQrXk1nr/hfCKLhzsdS0RExCeonHjRwfRMXvx6DV8uSaZsyXCG39KCa5pWcTqWiIiIT1E58ZL5G3bzn8kr2Z6aTtt6FRncoymVNOlVRETkH1ROPOxgeiavzFzLxD+2UrpYGP/r1oR/ta6ulV5FREROQ+XEg75fs5Onpq5i58FjtImrwKvdmxBbrqTTsURERHyayokH7D+SwXNfr2ba8m1EFg/jte5NuLmV9paIiIjkh8pJEftm1XaemZbAnsMZdGwQw8tdm1A5SnNLRERE8kvlpIhsT03j2WmrmbNmJ2VLhjO0Zzw3xFfV3hIREZECUjkppOwcyye/JfLGnA0cPpbFNU2r8Nx151MxspjT0URERPySykkhrEpOZeBXq1iVkkq1siV4t1dz2jeIcTqWiIiIX1M5OQcH0zMZMmcD435LxBjDfW3P49+d6lIyQv+cIiIihaW/pgVgrWX6im28NHMtuw8do2XNcrzctTENKpdxOpqIiEjAUDnJB2stv23ay1vfb+CPxP2UKxnO692b0qNlLCG6grCIiEiRUjk5g2NZ2cxdt4sxCxJZlLiPsBBDrwtq8ETn+pQvFeF0PBERkYCkcpKHjbsO8/GviXy9chsHjmYSFmL4V+vqPNg+jurltcKriIiIJ6mc5CFxzxE+WbiFepVK80C7OtzYvJou0iciIuIlxlrrdIZCiY2NtcnJyUX6npnZOazbfojG1cpoETUREREPMMakWGtj83pOe07yEB4aQpPYKKdjiIiIBKUQpwOIiIiI5KZyIiIiIj5F5URERER8isqJiIiI+BSVExEREfEpKiciIiLiU1RORERExKeonIiIiIhPUTkRERERn6JyIiIiIj5F5URERER8isqJiIiI+BSVExEREfEpKiciIiLiU4y11ukMhWKMOQbs9tDblwYOe+i9nRbIYwONz58F8thA4/NngTw28P74Klpri+X1hN+XE08yxiRba2OdzuEJgTw20Pj8WSCPDTQ+fxbIYwPfGp8O64iIiIhPUTkRERERn6JycmZDnA7gQYE8NtD4/Fkgjw00Pn8WyGMDHxqf5pyIiIiIT9GeExEREfEpKiciIiLiU1RORERExKcERTkxxrxjjEk0xlhjTONcj7c2xvxijFlpjFlujOlwyuv6GWPWGmMS3NsUdz8eYox51xizyRiz0RjTz9tjOiVngcdnjKljjPnB/fg6Y8ybxpgQ93M+Mz5jTHFjzFRjzAZ31lnGmFru52Lc9/90/4za5HpdSWPMZ+78G4wx3XI9Fwjje8X9u7nCGLPolJ+t348v1+svN8ZkG2MeyvWYT4yvMGPzh8+WQvxuBsJny0BjzHpjTI4x5tpTXufzny2FGJvvfK5YawP+C2gLxAKJQGP3YwZIBtq77zcAtgIl3PdvAH4Botz3Y4BQ9+3bgR+AUKC8+30b+Nn4vgL6u28XB1YBXXxtfO5sXfh78vZDwBz37THAc+7brYEtQJj7/jPAWPft2sAOoFwAje/qXD/LZsB+oHigjM/9WCTwOzADeCjX4z4xvkL87Pzis6UQ4wuEz5YLgTrAPODaU17n858thRibz3yueP0XwskvTv7jXQE4esrzq4Bu7tsLgE6neZ+ZwE257r9+/P+ofjS+r4Cn3bfLAeuA5r48PneWVsBG9+3DuJY/Pv7cIuBy9+3VQOtcz30B3Bko4zvlNSHAQSA2kMYHfAj0AMZycjnxyfEV4HfT7z5bCjg+v/9syfXYPP75B9zvPlvyO7ZTnnf0cyUoDuvkxVq7B9hpjOkOYIy5EKgH1HJv0ghoZVyHRRYbY/rnenkNXP+lcFyi+zGfkY/xPQLcZIzZBmwDxllrl7mf8+Xx9Qe+NsZEAyHW2tzXVUrk75xnGkMgjC+3u4BN1tpk932/H58x5mqgrLV2Uh7v4avjy+/Pzl8/W/I7Pr/+bMnHdv742ZLfseXm6OdK0JYTtxuAvsaYpUA/XP9Fk+l+LgzXrq+2wJXAPcaYLrlem3uBGOOFrOfiTOO7D/jEWlsVqAncYk6ec+Nz4zPGDATqAk+5Hzp1kZ5Tc55pDIEwPowxHYFngX+d8pTfjs8YUxZ4FXjwDG/nU+Mr4M/O7z5bCji+QPhsORu/+Ww5h7H5xOdKUJcTa+1Ka+3V1toW1to7gKrAGvfTScBn1tpsa+0+4FvgglzP1cr1VjXdj/mUs4yvP/Cxe7tduMbXzv2cz43PGPM40A242lp71Fq71/14xVyb5c55pjEEwvgwxrQDPgKus9auz7Wdv4+vMVAFWGSMScR1aOd5Y8zz7u18anzn+LvpN58t5zA+v/5sycdL/Oaz5RzG5jufK04fC/PmF7nmZLjvV851+x5gMX9PIBoIvO6+XRzXxLyu7vt3At/z98SgLUBDPxvfSuAO9+1SwBLcxxN9bXzAAHe+cqc8PpaTJ+Ul8fekvOc4edLaTqB8AI2vrft+8zzez+/Hl8d2ueec+Mz4zvFn5zefLec4Pr//bMn1/Dz+OefELz5bznFsPvO54sgvhAM/pOG4zlzJwjWz+vikrmeBDcCfwHSgeq7XlADG4drTsJpcE3/cP5zhwCb310PeHE8Rja85rjMGVgJrgf/xd3HxmfHhOgvJunMsd3/97n6uEjDHPb7VQLtcrysFfA5sdP8b9PDFn18hxven+0Nxea6vJoEyvlPeYywnlxOfGF8hfnZ+8dlSiPEFwmfLf3F9ph4D9rhvV3Q/5/OfLYUYm898rujaOiIiIuJTgnrOiYiIiPgelRMRERHxKSonIiL/3979hPgQxnEcf3/kJNbFSUiJlHJbJxcXJ3JSsntVtuwFxcmBNkWtcuKgOKwU5eKCUigHe9nF5kY5OShb/hzWn6/DjNqUHOxvdg7v121mnnl6nsv0mXmeeR5JvWI4kSRJvWI4kSRJvWI4kTRQSaaSTPxx7n6SE8vVJkn9ZjiRNGjHgNEkwwBJjtCs9XHpfypNsnIJ2iaphwwnkgaqqj7S7LdyPck2msUBTwG3kjxP8iLJ2d/lk1xMMp1kJsnjJFvb85uTfEhyJslTYDzJ/vb+mSSvkhxYjj5KWlouwiapE0mu0GwkdhI4CExU1ZP2C8g94GpV3U2yrppdtUlyCBitqn1JNgNvgZGqutlenwXGqupZkhXAUFXNd945SUvKcCKpE0m2ANPARmCeZtnz31YD16rqfJLDwDiwhubr7lBVbWjDyWtgVbUPriSTwG7gDvCgqmY66o6kAXLMVlJXfgA/aQJHAcNV9W1xgSSbgMvArqp6k2Qn8GhRkS+16I2qqo4n2QHsAW4kmaqqC4PuiKTBMpxI6lRVfWrnjJwGzgEkWU8TWtYCC8D7JKGZTPtXSbZX1Rwwl+Q7sHegjZfUCcOJpOUwAkwmedkefwaOVtVskts0Qz7vgIf/qOd8O8l2AfgKjA2qwZK645wTSZLUK/5KLEmSesVwIkmSesVwIkmSesVwIkmSesVwIkmSesVwIkmSesVwIkmSesVwIkmSeuUX7qzyer6sBpAAAAAASUVORK5CYII=\n"
     },
     "metadata": {
      "needs_background": "light"
     },
     "output_type": "display_data"
    }
   ],
   "source": [
    "\n",
    "plt.figure(figsize=(8, 6), dpi=80)\n",
    "plt.plot(trained_years, world_data, label='Actual')\n",
    "plt.plot(predicted_years, predicted_data, label='Predicted')\n",
    "plt.legend()\n",
    "plt.xlabel('Years')\n",
    "plt.ylabel('Population')\n",
    "plt.show()"
   ],
   "metadata": {
    "collapsed": false,
    "pycharm": {
     "name": "#%%\n"
    }
   }
  },
  {
   "cell_type": "markdown",
   "source": [
    "##Predicting population in 2122"
   ],
   "metadata": {
    "collapsed": false,
    "pycharm": {
     "name": "#%% md\n"
    }
   }
  },
  {
   "cell_type": "code",
   "execution_count": 9,
   "outputs": [
    {
     "name": "stdout",
     "output_type": "stream",
     "text": [
      "in year 2122 it should be 15619983631.37\n"
     ]
    }
   ],
   "source": [
    "estimate = 101\n",
    "print(\"in year\", predicted_years[estimate], \"it should be\", predicted_data[estimate].round(2))"
   ],
   "metadata": {
    "collapsed": false,
    "pycharm": {
     "name": "#%%\n"
    }
   }
  },
  {
   "cell_type": "code",
<<<<<<< Updated upstream
   "execution_count": 7,
=======
   "execution_count": 9,
>>>>>>> Stashed changes
   "outputs": [],
   "source": [],
   "metadata": {
    "collapsed": false,
    "pycharm": {
     "name": "#%%\n"
    }
   }
  }
 ],
 "metadata": {
  "kernelspec": {
   "display_name": "Python 3",
   "language": "python",
   "name": "python3"
  },
  "language_info": {
   "codemirror_mode": {
    "name": "ipython",
    "version": 2
   },
   "file_extension": ".py",
   "mimetype": "text/x-python",
   "name": "python",
   "nbconvert_exporter": "python",
   "pygments_lexer": "ipython2",
   "version": "2.7.6"
  }
 },
 "nbformat": 4,
 "nbformat_minor": 0
}