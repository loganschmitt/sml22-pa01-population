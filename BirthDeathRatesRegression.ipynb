{
 "cells": [
  {
   "cell_type": "markdown",
   "metadata": {
    "collapsed": true,
    "pycharm": {
     "name": "#%% md\n"
    }
   },
   "source": [
    "## Import Statements"
   ],
   "outputs": []
  },
  {
   "cell_type": "code",
   "execution_count": 102,
   "outputs": [],
   "source": [
    "import pandas as pd\n",
    "import numpy as np\n",
    "from scipy.optimize import curve_fit\n",
    "from sklearn.metrics import r2_score\n",
    "import matplotlib.pyplot as plt"
   ],
   "metadata": {
    "collapsed": false,
    "pycharm": {
     "name": "#%%\n"
    }
   }
  },
  {
   "cell_type": "markdown",
   "source": [
    "## Defining the function\n",
    "Source: https://stackoverflow.com/questions/60160803/scipy-optimize-curve-fit-for-logistic-function"
   ],
   "metadata": {
    "collapsed": false,
    "pycharm": {
     "name": "#%% md\n"
    }
   }
  },
  {
   "cell_type": "code",
   "execution_count": 103,
   "outputs": [],
   "source": [
    "def logistic_function(x, a, b, c, d):\n",
    "    return a / (1. + np.exp(-c * (x - d))) + b"
   ],
   "metadata": {
    "collapsed": false,
    "pycharm": {
     "name": "#%%\n"
    }
   }
  },
  {
   "cell_type": "markdown",
   "source": [
    "## Reading in the data and cleaning it"
   ],
   "metadata": {
    "collapsed": false,
    "pycharm": {
     "name": "#%% md\n"
    }
   }
  },
  {
   "cell_type": "code",
   "execution_count": 104,
   "outputs": [],
   "source": [
    "with open('BirthsandDeathRates.csv', 'r') as f:\n",
    "    lines = f.readlines()\n",
    "birth_rates =[]\n",
    "death_rates = []\n",
    "for i in range(51, 73):\n",
    "    #print(lines[i])\n",
    "    birth_rates.append(float(lines[i].split(',')[3]))\n",
    "    death_rates.append(float(lines[i].split(',')[2]))\n",
    "years = list(range(2000, 2022))\n",
    "for i in range(len(birth_rates)):\n",
    "    birth_rates[i] = birth_rates[i]/1000000\n",
    "\n",
    "for i in range(len(death_rates)):\n",
    "    death_rates[i] = death_rates[i]/1000000"
   ],
   "metadata": {
    "collapsed": false,
    "pycharm": {
     "name": "#%%\n"
    }
   }
  },
  {
   "cell_type": "markdown",
   "source": [
    "## Exploratory Data Analysis"
   ],
   "metadata": {
    "collapsed": false,
    "pycharm": {
     "name": "#%% md\n"
    }
   }
  },
  {
   "cell_type": "code",
   "execution_count": 105,
   "outputs": [
    {
     "data": {
      "text/plain": "<matplotlib.legend.Legend at 0x7fbf392da160>"
     },
     "execution_count": 105,
     "metadata": {},
     "output_type": "execute_result"
    },
    {
     "data": {
      "text/plain": "<Figure size 432x288 with 1 Axes>",
      "image/png": "[encoded data removed]"
     },
     "metadata": {
      "needs_background": "light"
     },
     "output_type": "display_data"
    }
   ],
   "source": [
    "plt.plot(years, birth_rates, 'r', label = 'Birth Rates')\n",
    "plt.plot(years, death_rates, 'b', label = 'Death Rates')\n",
    "plt.xlabel('Year')\n",
    "plt.ylabel('Rates in Millions')\n",
    "plt.legend()"
   ],
   "metadata": {
    "collapsed": false,
    "pycharm": {
     "name": "#%%\n"
    }
   }
  },
  {
   "cell_type": "markdown",
   "source": [
    "## Converting the arrays to numpy arrays and reshaping the x-axis as well as flattening the arrays into 1D as opposed to 2D"
   ],
   "metadata": {
    "collapsed": false,
    "pycharm": {
     "name": "#%% md\n"
    }
   }
  },
  {
   "cell_type": "code",
   "execution_count": 106,
   "outputs": [],
   "source": [
    "years = np.array(years).reshape(-1, 1).flatten()\n",
    "birth_rates = np.array(birth_rates).flatten()\n",
    "death_rates = np.array(death_rates).flatten()"
   ],
   "metadata": {
    "collapsed": false,
    "pycharm": {
     "name": "#%%\n"
    }
   }
  },
  {
   "cell_type": "markdown",
   "source": [
    "## Creating the Model"
   ],
   "metadata": {
    "collapsed": false,
    "pycharm": {
     "name": "#%% md\n"
    }
   }
  },
  {
   "cell_type": "code",
   "execution_count": 107,
   "outputs": [
    {
     "name": "stdout",
     "output_type": "stream",
     "text": [
      "R-Squared for births: 0.9980445705799171\n"
     ]
    }
   ],
   "source": [
    "paramsBirth, covarianceBirth = curve_fit(logistic_function, years, birth_rates, p0=[120, 2000, 3, 2010], maxfev=10000) # p0 is the initial guess for the parameters\n",
    "r2 = r2_score(birth_rates, logistic_function(years, *paramsBirth)) # Calculating the R^2 value\n",
    "print('R-Squared for births:', r2)\n"
   ],
   "metadata": {
    "collapsed": false,
    "pycharm": {
     "name": "#%%\n"
    }
   }
  },
  {
   "cell_type": "code",
   "execution_count": 108,
   "outputs": [
    {
     "name": "stdout",
     "output_type": "stream",
     "text": [
      "R-Squared for births: 0.9922520509858695\n"
     ]
    }
   ],
   "source": [
    "paramsDeath, covarianceDeath = curve_fit(logistic_function, years, death_rates, p0=[50, 2000, 5, 2010], maxfev=10000) # p0 is the initial guess for the parameters\n",
    "r2 = r2_score(death_rates, logistic_function(years, *paramsDeath)) # Calculating the R^2 value\n",
    "print('R-Squared for births:', r2)"
   ],
   "metadata": {
    "collapsed": false,
    "pycharm": {
     "name": "#%%\n"
    }
   }
  },
  {
   "cell_type": "code",
   "execution_count": 108,
   "outputs": [],
   "source": [],
   "metadata": {
    "collapsed": false,
    "pycharm": {
     "name": "#%%\n"
    }
   }
  }
 ],
 "metadata": {
  "kernelspec": {
   "display_name": "Python 3",
   "language": "python",
   "name": "python3"
  },
  "language_info": {
   "codemirror_mode": {
    "name": "ipython",
    "version": 2
   },
   "file_extension": ".py",
   "mimetype": "text/x-python",
   "name": "python",
   "nbconvert_exporter": "python",
   "pygments_lexer": "ipython2",
   "version": "2.7.6"
  }
 },
 "nbformat": 4,
 "nbformat_minor": 0
}